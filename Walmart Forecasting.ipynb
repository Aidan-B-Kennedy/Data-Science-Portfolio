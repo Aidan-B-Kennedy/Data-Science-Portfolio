{
 "cells": [
  {
   "cell_type": "markdown",
   "metadata": {},
   "source": [
    "# Sales Forecasting With Machine Learning \n",
    "\n",
    "The purpose of this project is to demnostrate applied machine learning in the retail domain. \n",
    "\n",
    "Situation: Walmart launched an initative to crowd source machine learning models that could be used to forecast store sales. Walmart provided historical sales data, down to the department level, for 45 stores located in different regions. In addition, Walmart included promotional markdown event data. These markdowns precede prominent holidays, the four largest of which are the Super Bowl, Labor Day, Thanksgiving, and Christmas. Walmart requested models prioritize forecasting accuracy during these markdown events despite comlete or ideal historical data.\n",
    "\n",
    "Task: Predict the department-wide weekly sales for each store while prioritizing weeks with holiday markdown events.\n",
    "\n",
    "Action: The following documnention reflects the process I followed to create a machine learning model that forecasts sales. "
   ]
  },
  {
   "cell_type": "markdown",
   "metadata": {},
   "source": [
    "## Libraries and Data Loading\n",
    "\n",
    "First step was to import the necessary data and packages."
   ]
  },
  {
   "cell_type": "code",
   "execution_count": null,
   "metadata": {},
   "outputs": [],
   "source": [
    "import pandas as pd\n",
    "import numpy as np\n",
    "from matplotlib import pyplot as plt\n",
    "from matplotlib.gridspec import GridSpec\n",
    "import seaborn as sns\n",
    "from scipy import stats\n",
    "from scipy.special import boxcox1p\n",
    "\n",
    "from sklearn.model_selection import train_test_split\n",
    "from sklearn.ensemble import RandomForestRegressor\n",
    "\n",
    "from pandasql import sqldf\n",
    "pysqldf = lambda q: sqldf(q, globals())\n",
    "\n",
    "features = pd.read_csv('/Users/aidan/Documents/Jupyter Storage/Walmart Forecasting/features.csv')\n",
    "train = pd.read_csv('/Users/aidan/Documents/Jupyter Storage/Walmart Forecasting/train.csv')\n",
    "stores = pd.read_csv('/Users/aidan/Documents/Jupyter Storage/Walmart Forecasting/stores.csv')\n",
    "test = pd.read_csv('/Users/aidan/Documents/Jupyter Storage/Walmart Forecasting/test.csv')\n",
    "sample_submission = pd.read_csv('/Users/aidan/Documents/Jupyter Storage/Walmart Forecasting/sampleSubmission.csv')\n"
   ]
  },
  {
   "cell_type": "markdown",
   "metadata": {},
   "source": [
    "## Data Cleaning and Exploritory Analysis\n",
    "\n",
    "In this section I explore the data sets provided, join pertinent information, and make relevant transformations. Also to establish context here is a description of each data set. \n",
    "\n",
    "####stores.csv\n",
    "This file contains anonymized information about the 45 stores, indicating the type and size of store.\n",
    "\n",
    "####train.csv\n",
    "This is the historical training data, which covers to 2010-02-05 to 2012-11-01. Within this file you will find the following fields\n",
    "\n",
    "- Store - the store number\n",
    "- Dept - the department number\n",
    "- Date - the week\n",
    "- Weekly_Sales -  sales for the given department in the given store\n",
    "- IsHoliday - whether the week is a special holiday week\n",
    "\n",
    "####test.csv\n",
    "This file is identical to train.csv, except we have withheld the weekly sales. You must predict the sales for each triplet of store, department, and date in this file.\n",
    "\n",
    "####features.csv\n",
    "This file contains additional data related to the store, department, and regional activity for the given dates. It contains the following fields:\n",
    "\n",
    "- Store, the store number\n",
    "- Date,  the week\n",
    "- Temperature, average temperature in the region\n",
    "- Fuel_Price, cost of fuel in the region\n",
    "- MarkDown1-5, anonymized data related to promotional markdowns that Walmart is running. MarkDown data is only available after Nov 2011, and is not available for all stores all the time. Any missing value is marked with an NA.\n",
    "- CPI, the consumer price index\n",
    "- Unemployment, the unemployment rate\n",
    "- IsHoliday, whether the week is a special holiday week\n",
    "\n",
    "For convenience, the four holidays fall within the following weeks in the dataset (not all holidays are identified in the data):\n",
    "- Super Bowl: 12-Feb-10, 11-Feb-11, 10-Feb-12, 8-Feb-13\n",
    "- Labor Day: 10-Sep-10, 9-Sep-11, 7-Sep-12, 6-Sep-13\n",
    "- Thanksgiving: 26-Nov-10, 25-Nov-11, 23-Nov-12, 29-Nov-13\n",
    "- Christmas: 31-Dec-10, 30-Dec-11, 28-Dec-12, 27-Dec-13"
   ]
  },
  {
   "cell_type": "code",
   "execution_count": null,
   "metadata": {},
   "outputs": [],
   "source": []
  }
 ],
 "metadata": {
  "kernelspec": {
   "display_name": "Python 3",
   "language": "python",
   "name": "python3"
  },
  "language_info": {
   "codemirror_mode": {
    "name": "ipython",
    "version": 3
   },
   "file_extension": ".py",
   "mimetype": "text/x-python",
   "name": "python",
   "nbconvert_exporter": "python",
   "pygments_lexer": "ipython3",
   "version": "3.8.3"
  }
 },
 "nbformat": 4,
 "nbformat_minor": 4
}
